{
 "cells": [
  {
   "cell_type": "markdown",
   "id": "65a542f7-521b-4943-aed8-f20f9ba8f069",
   "metadata": {},
   "source": [
    "# Data Science Tools and Ecosystems"
   ]
  },
  {
   "cell_type": "markdown",
   "id": "2c9814eb-388c-4bb3-897c-ce710699af5f",
   "metadata": {},
   "source": [
    "In this notebook, Data Science Tools and Ecosystem are summarized."
   ]
  },
  {
   "cell_type": "markdown",
   "id": "3e2884c2-d0d4-4e5f-9b91-87e6180ac9dc",
   "metadata": {},
   "source": [
    "Some of the popular languages that Data Scientists use are:\n",
    "1. Python\n",
    "2. R\n",
    "3. Java"
   ]
  },
  {
   "cell_type": "markdown",
   "id": "9735fd43-d5d0-4190-a851-bb321c4f96b2",
   "metadata": {},
   "source": [
    "Some of the commonly used libraries used by Data Scientists include:\n",
    "1. TensorFlow\n",
    "2. NumPy\n",
    "3. Pandas"
   ]
  },
  {
   "cell_type": "markdown",
   "id": "138db55d-ef2e-4dc0-8d37-f52d3cc37cae",
   "metadata": {},
   "source": [
    "|Data Science Tools|\n",
    "|------------------|\n",
    "|NumPy|\n",
    "|Apache Hadoop|\n",
    "|TensorFlow|"
   ]
  },
  {
   "cell_type": "markdown",
   "id": "c7e10799-16bc-41f9-b7c1-331c1afe3d05",
   "metadata": {},
   "source": [
    "### Below are a few examples of evaluating arithmetic expressions in Python"
   ]
  },
  {
   "cell_type": "code",
   "execution_count": 11,
   "id": "32e72273-9742-4220-b543-c2831e462289",
   "metadata": {},
   "outputs": [
    {
     "data": {
      "text/plain": [
       "17"
      ]
     },
     "execution_count": 11,
     "metadata": {},
     "output_type": "execute_result"
    }
   ],
   "source": [
    "# This a simple arithmetic expression to mutiply then add integer\n",
    "\n",
    "(3*4)+5"
   ]
  },
  {
   "cell_type": "code",
   "execution_count": 12,
   "id": "b5f06187-8f6e-47b5-a9a8-57924f49cca1",
   "metadata": {},
   "outputs": [
    {
     "data": {
      "text/plain": [
       "3.3333333333333335"
      ]
     },
     "execution_count": 12,
     "metadata": {},
     "output_type": "execute_result"
    }
   ],
   "source": [
    "# This will convert 200 minutes to hours by diving by 60\n",
    "\n",
    "200/60"
   ]
  },
  {
   "cell_type": "markdown",
   "id": "bfffb859-244d-48a8-9bfd-784e4839232c",
   "metadata": {},
   "source": [
    "__Objectives:__\n",
    "* Familiarize with Jupyter Notebooks\n",
    "* Learn GitHub and RStudio\n",
    "* Learn the different languages and tools used in data science"
   ]
  },
  {
   "cell_type": "markdown",
   "id": "cee2338c-fc1f-4d47-a02c-53cfa2da7275",
   "metadata": {},
   "source": [
    "## Author:\n",
    "# Amy"
   ]
  },
  {
   "cell_type": "code",
   "execution_count": null,
   "id": "4b7b2155-8da5-4ba5-bda5-8af051743d41",
   "metadata": {},
   "outputs": [],
   "source": []
  }
 ],
 "metadata": {
  "kernelspec": {
   "display_name": "Python",
   "language": "python",
   "name": "conda-env-python-py"
  },
  "language_info": {
   "codemirror_mode": {
    "name": "ipython",
    "version": 3
   },
   "file_extension": ".py",
   "mimetype": "text/x-python",
   "name": "python",
   "nbconvert_exporter": "python",
   "pygments_lexer": "ipython3",
   "version": "3.7.12"
  }
 },
 "nbformat": 4,
 "nbformat_minor": 5
}
